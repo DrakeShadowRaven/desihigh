{
  "nbformat": 4,
  "nbformat_minor": 0,
  "metadata": {
    "colab": {
      "name": "n'ish-body",
      "provenance": [],
      "collapsed_sections": [],
      "authorship_tag": "ABX9TyNtlUy7ooBT6g+kDrDU6duZ",
      "include_colab_link": true
    },
    "kernelspec": {
      "name": "python3",
      "display_name": "Python 3"
    },
    "language_info": {
      "name": "python"
    }
  },
  "cells": [
    {
      "cell_type": "markdown",
      "metadata": {
        "id": "view-in-github",
        "colab_type": "text"
      },
      "source": [
        "<a href=\"https://colab.research.google.com/github/DrakeShadowRaven/desihigh/blob/main/n'ish_body.ipynb\" target=\"_parent\"><img src=\"https://colab.research.google.com/assets/colab-badge.svg\" alt=\"Open In Colab\"/></a>"
      ]
    },
    {
      "cell_type": "code",
      "execution_count": 2,
      "metadata": {
        "colab": {
          "base_uri": "https://localhost:8080/"
        },
        "id": "YBcBHaLLGlSx",
        "outputId": "ac067d18-464f-414d-9904-1fe1d240e567"
      },
      "outputs": [
        {
          "output_type": "stream",
          "name": "stdout",
          "text": [
            "Mounted at /content/drive\n"
          ]
        }
      ],
      "source": [
        "from google.colab import drive\n",
        "drive.mount('/content/drive')"
      ]
    },
    {
      "cell_type": "code",
      "source": [
        "import sys\n",
        "sys.path.append('/content/drive/MyDrive/desihigh')"
      ],
      "metadata": {
        "id": "CPsyUzp5HRNM"
      },
      "execution_count": 3,
      "outputs": []
    },
    {
      "cell_type": "code",
      "source": [
        "import time\n",
        "import astropy\n",
        "import itertools\n",
        "import matplotlib\n",
        "\n",
        "import numpy             as np\n",
        "import pylab             as pl\n",
        "import matplotlib.pyplot as plt\n",
        "import astropy.units     as u\n",
        "\n",
        "from   astropy.cosmology import FlatLambdaCDM\n",
        "from   IPython.display   import YouTubeVideo\n",
        "from   tools.flops       import flops"
      ],
      "metadata": {
        "id": "7uk-hmL6HcZs"
      },
      "execution_count": 4,
      "outputs": []
    },
    {
      "cell_type": "code",
      "source": [
        "from IPython.display import clear_output\n",
        "from time import sleep"
      ],
      "metadata": {
        "id": "TZ_lUx5PHyPh"
      },
      "execution_count": 5,
      "outputs": []
    },
    {
      "cell_type": "code",
      "source": [
        "%matplotlib inline\n",
        "\n",
        "plt.style.use('dark_background')"
      ],
      "metadata": {
        "id": "jRR327ZaH4YO"
      },
      "execution_count": 6,
      "outputs": []
    },
    {
      "cell_type": "code",
      "source": [
        "def init_dof(npt=1):\n",
        "  #  Create a set of particles at random positions in a box, which will soon predict the distribution of dark matter \n",
        "  #  as we see above.\n",
        "  xs     = np.random.uniform(0., 1., npt)\n",
        "  ys     = np.random.uniform(0., 1., npt)\n",
        "  zs     = np.random.uniform(0., 1., npt)\n",
        "\n",
        "  pos    = np.vstack((xs,ys,zs)).T\n",
        "  vel    = np.zeros_like(pos)\n",
        "\n",
        "  return  pos, vel"
      ],
      "metadata": {
        "id": "YHT_UkGHIA8g"
      },
      "execution_count": 7,
      "outputs": []
    },
    {
      "cell_type": "code",
      "source": [
        "# Reinitialise particles.\n",
        "npt=2\n",
        "pos, vel = init_dof(npt=npt)\n",
        "mass = np.random.uniform(0., 1., npt)\n",
        "msize = mass*20\n",
        "print, mass\n",
        "\n",
        "# force the last mass very small\n",
        "\n",
        "\n",
        "print,mass\n",
        "# pos of partile 1\n",
        "\n",
        "i = 0\n",
        "pos[i][0]=0.5\n",
        "pos[i][1]=0.5\n",
        "pos[i][2]=0.5\n",
        "pos[0]=0\n",
        "\n",
        "i = 1 \n",
        "pos[i][0]=0.7\n",
        "pos[i][1]=0.5\n",
        "pos[i][2]=1.5e12\n",
        "\n",
        "r = 1.5e12\n",
        "mass_1 = 1.5e30\n",
        "mass_2 = 6e30\n",
        "v_1 = 13200\n",
        "v_2 = -3300\n",
        "print(r)\n",
        "print(mass_1)\n",
        "print(mass_2)\n",
        "print(v_1)\n",
        "print(v_2)\n",
        "\n",
        "G = 6.67e-11\n",
        "\n",
        "# vel of partile 1\n",
        "\n",
        "i = 0\n",
        "vel[i][0]=0.1\n",
        "vel[i][1]=0.05\n",
        "vel[i][2]=0.1\n",
        "vel[0]=13200\n",
        "\n",
        "i = 1 \n",
        "vel[i][0]=0.05\n",
        "vel[i][1]=0.1\n",
        "vel[i][2]=0.2\n",
        "vel[1]=-3300\n",
        "\n",
        "mass[0]=6e30\n",
        "mass[1]=1.5e30\n",
        "print(vel)\n",
        "\n",
        "p_1 = mass_1*v_1\n",
        "p_2 = mass_2*v_2\n",
        "print(p_1)\n",
        "print(p_2)\n",
        "\n",
        "momentum_1 = mass[0]*vel[0]\n",
        "momentum_2 = mass[1]*vel[1]\n",
        "print(momentum_1)\n",
        "print(momentum_2)\n",
        "\n",
        "dR = mass[0]*vel[0]+mass[1]*vel[1]\n",
        "print(dR)\n",
        "R = dR/(mass[0]*mass[1])\n",
        "print(R)\n",
        "\n",
        "E = .5*mass[0]*vel[0]**+.5*mass[1]*vel[1]**-(G*mass[0]*mass[1])/(r)\n",
        "dE = .5*mass[0]*v_1**+.5*mass[1]*v_2**-(G*mass[0]*mass[1])/r\n",
        "print(E)\n",
        "print(dE)\n",
        "\n",
        "L = mass[0]*vel[0]*1.2e12+mass[1]*vel[1]*.3e12\n",
        "print(L)"
      ],
      "metadata": {
        "colab": {
          "base_uri": "https://localhost:8080/"
        },
        "id": "nEZHO_AiILQ0",
        "outputId": "6f0d5b5c-70b3-4805-9cd4-35bd7d6194ab"
      },
      "execution_count": 61,
      "outputs": [
        {
          "output_type": "stream",
          "name": "stdout",
          "text": [
            "1500000000000.0\n",
            "1.5e+30\n",
            "6e+30\n",
            "13200\n",
            "-3300\n",
            "[[13200. 13200. 13200.]\n",
            " [-3300. -3300. -3300.]]\n",
            "1.9799999999999997e+34\n",
            "-1.9799999999999997e+34\n",
            "[7.92e+34 7.92e+34 7.92e+34]\n",
            "[-4.95e+33 -4.95e+33 -4.95e+33]\n",
            "[7.425e+34 7.425e+34 7.425e+34]\n",
            "[8.25e-27 8.25e-27 8.25e-27]\n",
            "[0. 0. 0.]\n",
            "0.0\n",
            "[9.3555e+46 9.3555e+46 9.3555e+46]\n"
          ]
        }
      ]
    },
    {
      "cell_type": "code",
      "source": [
        ""
      ],
      "metadata": {
        "id": "4DMQAFfjJheF"
      },
      "execution_count": null,
      "outputs": []
    },
    {
      "cell_type": "code",
      "source": [
        "def init_dof(npt=1):\n",
        "  #  Create a set of particles at random positions in a box, which will soon predict the distribution of dark matter \n",
        "  #  as we see above.\n",
        "  xs     = np.random.uniform(0., 1., npt)\n",
        "  ys     = np.random.uniform(0., 1., npt)\n",
        "  zs     = np.random.uniform(0., 1., npt)\n",
        "\n",
        "  pos    = np.vstack((xs,ys,zs)).T\n",
        "  vel    = np.zeros_like(pos)\n",
        "\n",
        "  return  pos, vel"
      ],
      "metadata": {
        "id": "wKxeLHaw_-HK"
      },
      "execution_count": 22,
      "outputs": []
    },
    {
      "cell_type": "code",
      "source": [
        "\n",
        "# Number and mass of particles\n",
        "npt        = 3\n",
        "#mass       = 0.25\n",
        "\n",
        "# Whether to draw arrows for the acceleration and velocity\n",
        "draw_acc   = False\n",
        "#draw_vel   = False\n",
        "draw_vel = True\n",
        "\n",
        "# A small drag term to simulate the real drag dark matter particles experience due to the expanding universe\n",
        "drag = 1e-2\n",
        "dt         = 5e-4\n",
        "nsteps     = 500\n",
        "timesteps  = np.linspace(0, (nsteps)*dt, nsteps, endpoint=False)\n",
        "def make_legend_arrow(legend, orig_handle,\n",
        "          xdescent, ydescent,\n",
        "          width, height, fontsize):\n",
        "    p = matplotlib.patches.FancyArrow(0, 0.5*height, width, 0, length_includes_head=True, head_width=0.75*height)\n",
        "    return p\n",
        "\n",
        "for index_in_timestep, time in enumerate(timesteps):\n",
        "    clear_output(wait=True)\n",
        "    if index_in_timestep%10 == 1:\n",
        "        fig, ax = plt.subplots(1,1, figsize=(5,5), dpi=150)\n",
        "        ax.tick_params(labelbottom=False, labelleft=False, left=False, bottom=False)\n",
        "        ax.clear()\n",
        "        ax.set_title(f'N-body simulation with $N={npt}$ particles')\n",
        "        step_label = ax.text(0.03, .97, f'Step {index_in_timestep}',\n",
        "            transform=ax.transAxes, verticalalignment='top', c='k',\n",
        "            bbox=dict(color='w', alpha=0.8))\n",
        "        \n",
        "    dvel                        = np.zeros_like(vel)\n",
        "    dpos                        = np.zeros_like(pos)\n",
        "    acc                         = np.zeros_like(pos)\n",
        "    for index_in_particle in range(npt):\n",
        "        acc[index_in_particle]  = g_at_pos(pos[index_in_particle], pos, mass, epsilon=0.1)\n",
        "        # Update velocities.\n",
        "        dvel[index_in_particle] = dt * acc[index_in_particle]\n",
        "        # Update positions.\n",
        "        dpos[index_in_particle] = dt * vel[index_in_particle]\n",
        "    vel += dvel - drag*vel\n",
        "    pos += dpos\n",
        "    # Our simulation has periodic boundaries, if you go off one side you come back on the other!\n",
        "    pos = pos % 1\n",
        "    ax.scatter(pos[:,0], pos[:,1], s=msize, color='darkorange', edgecolor='w')\n",
        "    # Draw arrows representing the velocity and acceleration vectors, if requested\n",
        "    # The code here is a little verbose to get nice-looking arrows in the legend\n",
        "    arrows = []\n",
        "    if draw_vel:\n",
        "        ax.quiver(pos[:,0], pos[:,1], vel[:,0], vel[:,1], color='w', zorder=0)\n",
        "        arrows += [matplotlib.patches.FancyArrow(0,0, 0.5, 0.6, label='Velocity', color='w')]\n",
        "    if draw_acc:\n",
        "        ax.quiver(pos[:,0], pos[:,1], acc[:,0], acc[:,1], color='darkorange', zorder=0)\n",
        "        arrows += [matplotlib.patches.FancyArrow(0,0, 0.5, 0.6, label='Accel', color='darkorange')]\n",
        "    if draw_vel or draw_acc:\n",
        "        ax.legend(handles=arrows, handler_map={matplotlib.patches.FancyArrow:matplotlib.legend_handler.HandlerPatch(patch_func=make_legend_arrow)},\n",
        "                 facecolor='k', edgecolor='white', framealpha=0.8,\n",
        "                 loc='lower right')\n",
        "#    fig.canvas.draw()\n",
        "    if index_in_timestep%10 == 1:\n",
        "      ax.set_xlim(0.5, 0.7)\n",
        "      ax.set_ylim(0.4, 0.6)\n",
        "      plt.show(fig)\n",
        "      sleep(0.05)"
      ],
      "metadata": {
        "colab": {
          "base_uri": "https://localhost:8080/",
          "height": 235
        },
        "id": "ZLPT6e5_ITtQ",
        "outputId": "a15ecedf-6a3c-427a-9177-cab2714f4305"
      },
      "execution_count": 27,
      "outputs": [
        {
          "output_type": "error",
          "ename": "NameError",
          "evalue": "ignored",
          "traceback": [
            "\u001b[0;31m---------------------------------------------------------------------------\u001b[0m",
            "\u001b[0;31mNameError\u001b[0m                                 Traceback (most recent call last)",
            "\u001b[0;32m<ipython-input-27-2ab1c4434bb3>\u001b[0m in \u001b[0;36m<module>\u001b[0;34m()\u001b[0m\n\u001b[1;32m     32\u001b[0m \u001b[0;34m\u001b[0m\u001b[0m\n\u001b[1;32m     33\u001b[0m \u001b[0;34m\u001b[0m\u001b[0m\n\u001b[0;32m---> 34\u001b[0;31m     \u001b[0mdpos\u001b[0m                        \u001b[0;34m=\u001b[0m \u001b[0mnp\u001b[0m\u001b[0;34m.\u001b[0m\u001b[0mzeros_like\u001b[0m\u001b[0;34m(\u001b[0m\u001b[0mpos\u001b[0m\u001b[0;34m)\u001b[0m\u001b[0;34m\u001b[0m\u001b[0;34m\u001b[0m\u001b[0m\n\u001b[0m\u001b[1;32m     35\u001b[0m     \u001b[0macc\u001b[0m                         \u001b[0;34m=\u001b[0m \u001b[0mnp\u001b[0m\u001b[0;34m.\u001b[0m\u001b[0mzeros_like\u001b[0m\u001b[0;34m(\u001b[0m\u001b[0mpos\u001b[0m\u001b[0;34m)\u001b[0m\u001b[0;34m\u001b[0m\u001b[0;34m\u001b[0m\u001b[0m\n\u001b[1;32m     36\u001b[0m     \u001b[0;32mfor\u001b[0m \u001b[0mindex_in_particle\u001b[0m \u001b[0;32min\u001b[0m \u001b[0mrange\u001b[0m\u001b[0;34m(\u001b[0m\u001b[0mnpt\u001b[0m\u001b[0;34m)\u001b[0m\u001b[0;34m:\u001b[0m\u001b[0;34m\u001b[0m\u001b[0;34m\u001b[0m\u001b[0m\n",
            "\u001b[0;31mNameError\u001b[0m: name 'pos' is not defined"
          ]
        }
      ]
    },
    {
      "cell_type": "code",
      "source": [
        ""
      ],
      "metadata": {
        "id": "gMGvZ5e1IXzT"
      },
      "execution_count": null,
      "outputs": []
    }
  ]
}
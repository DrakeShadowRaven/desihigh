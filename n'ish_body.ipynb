{
  "nbformat": 4,
  "nbformat_minor": 0,
  "metadata": {
    "colab": {
      "name": "n'ish-body",
      "provenance": [],
      "authorship_tag": "ABX9TyN1eXHjO46zG2yLoI6WGiFz",
      "include_colab_link": true
    },
    "kernelspec": {
      "name": "python3",
      "display_name": "Python 3"
    },
    "language_info": {
      "name": "python"
    }
  },
  "cells": [
    {
      "cell_type": "markdown",
      "metadata": {
        "id": "view-in-github",
        "colab_type": "text"
      },
      "source": [
        "<a href=\"https://colab.research.google.com/github/DrakeShadowRaven/desihigh/blob/main/n'ish_body.ipynb\" target=\"_parent\"><img src=\"https://colab.research.google.com/assets/colab-badge.svg\" alt=\"Open In Colab\"/></a>"
      ]
    },
    {
      "cell_type": "code",
      "execution_count": 1,
      "metadata": {
        "colab": {
          "base_uri": "https://localhost:8080/"
        },
        "id": "YBcBHaLLGlSx",
        "outputId": "8bdd9b70-20cd-47bc-80aa-c64f1a9bcbb6"
      },
      "outputs": [
        {
          "output_type": "stream",
          "name": "stdout",
          "text": [
            "Mounted at /content/drive\n"
          ]
        }
      ],
      "source": [
        "from google.colab import drive\n",
        "drive.mount('/content/drive')"
      ]
    },
    {
      "cell_type": "code",
      "source": [
        "import sys\n",
        "sys.path.append('/content/drive/MyDrive/desihigh')"
      ],
      "metadata": {
        "id": "CPsyUzp5HRNM"
      },
      "execution_count": 3,
      "outputs": []
    },
    {
      "cell_type": "code",
      "source": [
        "import time\n",
        "import astropy\n",
        "import itertools\n",
        "import matplotlib\n",
        "\n",
        "import numpy             as np\n",
        "import pylab             as pl\n",
        "import matplotlib.pyplot as plt\n",
        "import astropy.units     as u\n",
        "\n",
        "from   astropy.cosmology import FlatLambdaCDM\n",
        "from   IPython.display   import YouTubeVideo\n",
        "from   tools.flops       import flops"
      ],
      "metadata": {
        "id": "7uk-hmL6HcZs"
      },
      "execution_count": 4,
      "outputs": []
    },
    {
      "cell_type": "code",
      "source": [
        "from IPython.display import clear_output\n",
        "from time import sleep"
      ],
      "metadata": {
        "id": "TZ_lUx5PHyPh"
      },
      "execution_count": 5,
      "outputs": []
    },
    {
      "cell_type": "code",
      "source": [
        "%matplotlib inline\n",
        "\n",
        "plt.style.use('dark_background')"
      ],
      "metadata": {
        "id": "jRR327ZaH4YO"
      },
      "execution_count": 6,
      "outputs": []
    },
    {
      "cell_type": "code",
      "source": [
        "def init_dof(npt=1):\n",
        "  #  Create a set of particles at random positions in a box, which will soon predict the distribution of dark matter \n",
        "  #  as we see above.\n",
        "  xs     = np.random.uniform(0., 1., npt)\n",
        "  ys     = np.random.uniform(0., 1., npt)\n",
        "  zs     = np.random.uniform(0., 1., npt)\n",
        "\n",
        "  pos    = np.vstack((xs,ys,zs)).T\n",
        "  vel    = np.zeros_like(pos)\n",
        "\n",
        "  return  pos, vel"
      ],
      "metadata": {
        "id": "YHT_UkGHIA8g"
      },
      "execution_count": 7,
      "outputs": []
    },
    {
      "cell_type": "code",
      "source": [
        "# Reinitialise particles.\n",
        "npt=2\n",
        "pos, vel = init_dof(npt=npt)\n",
        "mass = np.random.uniform(0., 1., npt)\n",
        "msize = mass*20\n",
        "print, mass\n",
        "\n",
        "# force the last mass very small\n",
        "\n",
        "\n",
        "print,mass\n",
        "# pos of partile 1\n",
        "\n",
        "i = 0\n",
        "pos[i][0]=0.5\n",
        "pos[i][1]=0.5\n",
        "pos[i][2]=0.5\n",
        "pos[0]=0\n",
        "\n",
        "i = 1 \n",
        "pos[i][0]=0.7\n",
        "pos[i][1]=0.5\n",
        "pos[i][2]=0.5\n",
        "\n",
        "\n",
        "\n",
        "\n",
        "# vel of partile 1\n",
        "\n",
        "i = 0\n",
        "vel[i][0]=0.1\n",
        "vel[i][1]=0.05\n",
        "vel[i][2]=0.1\n",
        "vel[0]=11000\n",
        "\n",
        "i = 1 \n",
        "vel[i][0]=0.05\n",
        "vel[i][1]=0.1\n",
        "vel[i][2]=0.2\n",
        "vel[1]=-8250\n",
        "\n",
        "mass[0]=6e30\n",
        "mass[1]=1.5e30\n"
      ],
      "metadata": {
        "id": "nEZHO_AiILQ0"
      },
      "execution_count": 19,
      "outputs": []
    },
    {
      "cell_type": "code",
      "source": [
        "print(pos)"
      ],
      "metadata": {
        "colab": {
          "base_uri": "https://localhost:8080/"
        },
        "id": "ZLPT6e5_ITtQ",
        "outputId": "10f21e72-fe2f-4d02-fac7-661b90fffd04"
      },
      "execution_count": 11,
      "outputs": [
        {
          "output_type": "stream",
          "name": "stdout",
          "text": [
            "[[0.5        0.5        0.5       ]\n",
            " [0.7        0.5        0.5       ]\n",
            " [0.7        0.57       0.5       ]\n",
            " [0.01887783 0.04233641 0.87437312]\n",
            " [0.06407237 0.2313325  0.08580478]\n",
            " [0.87461356 0.95940627 0.97530755]\n",
            " [0.69475581 0.98191221 0.06007324]\n",
            " [0.94140468 0.94076411 0.84332235]\n",
            " [0.76237747 0.37610145 0.58100756]\n",
            " [0.28619212 0.65216499 0.6636948 ]]\n"
          ]
        }
      ]
    },
    {
      "cell_type": "code",
      "source": [
        ""
      ],
      "metadata": {
        "id": "gMGvZ5e1IXzT"
      },
      "execution_count": null,
      "outputs": []
    }
  ]
}
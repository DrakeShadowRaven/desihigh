{
  "cells": [
    {
      "cell_type": "markdown",
      "metadata": {
        "id": "view-in-github",
        "colab_type": "text"
      },
      "source": [
        "<a href=\"https://colab.research.google.com/github/DrakeShadowRaven/desihigh/blob/main/Copy_of_SnowWhiteDwarf.ipynb\" target=\"_parent\"><img src=\"https://colab.research.google.com/assets/colab-badge.svg\" alt=\"Open In Colab\"/></a>"
      ]
    },
    {
      "cell_type": "code",
      "source": [
        "from google.colab import drive\n",
        "drive.mount('/content/drive')"
      ],
      "metadata": {
        "colab": {
          "base_uri": "https://localhost:8080/"
        },
        "id": "FoqVaUkDD24n",
        "outputId": "7db66a96-fa28-4bb3-9d3f-7aecdc9c3769"
      },
      "execution_count": 1,
      "outputs": [
        {
          "output_type": "stream",
          "name": "stdout",
          "text": [
            "Mounted at /content/drive\n"
          ]
        }
      ]
    },
    {
      "cell_type": "code",
      "source": [
        "import sys\n",
        "sys.path.append('/content/drive/MyDrive/desihigh')"
      ],
      "metadata": {
        "id": "1KIRe3cXECt3"
      },
      "execution_count": 2,
      "outputs": []
    },
    {
      "cell_type": "code",
      "execution_count": 3,
      "metadata": {
        "id": "NWFkqY2UDV8H"
      },
      "outputs": [],
      "source": [
        "import os\n",
        "import numpy               as     np\n",
        "import astropy.io.fits     as     fits\n",
        "import pylab               as     pl\n",
        "import pandas              as     pd\n",
        "import matplotlib.pyplot   as     plt \n",
        "\n",
        "from   IPython.display     import YouTubeVideo\n",
        "from   scipy               import interpolate\n",
        "from   scipy               import optimize\n",
        "from   tools.wave2rgb      import wavelength_to_rgb\n",
        "from   tools.resample_flux import trapz_rebin\n",
        "from   pkg_resources       import resource_filename"
      ]
    },
    {
      "cell_type": "markdown",
      "metadata": {
        "id": "IUKs3YKoDV8J"
      },
      "source": [
        "# A snow white dwarf"
      ]
    },
    {
      "cell_type": "markdown",
      "metadata": {
        "id": "MwgbB8gkDV8L"
      },
      "source": [
        "When you look to the sky, who knows what you will find?  We're all familiar with our own [sun](https://solarsystem.nasa.gov/solar-system/sun/overview/), "
      ]
    },
    {
      "cell_type": "markdown",
      "metadata": {
        "id": "4M4CZdzNDV8M"
      },
      "source": [
        "<img src=\"https://github.com/DrakeShadowRaven/desihigh/blob/main/desihigh/images/sun.jpg?raw=1\" alt=\"Drawing\" style=\"width: 800px;\"/>"
      ]
    },
    {
      "cell_type": "markdown",
      "metadata": {
        "id": "B6kOJH1SDV8N"
      },
      "source": [
        "a seemingly ever present that we see continually day-to-day.  Would it surprise you to know that in 5.5 billion years the sun will change beyond recognition as the Hydrogen fuelling nuclear fusion within runs out?  "
      ]
    },
    {
      "cell_type": "markdown",
      "metadata": {
        "id": "b7eytmxdDV8O"
      },
      "source": [
        "<img src=\"https://github.com/DrakeShadowRaven/desihigh/blob/main/desihigh/images/RedGiant.jpg?raw=1\" alt=\"Drawing\" style=\"width: 800px;\"/>"
      ]
    },
    {
      "cell_type": "markdown",
      "metadata": {
        "id": "PzcBVylADV8O"
      },
      "source": [
        "During this apparent mid-life crisis, the sun will begin to fuse Helium to create the carbon fundamental to life on earth, and the oxygen necessary to sustain it.  Expanding to ten-to-hundreds the size of the sun today, it will soon envelope Mercury & Venus, and perhaps [even Earth itself](https://phys.org/news/2016-05-earth-survive-sun-red-giant.html#:~:text=Red%20Giant%20Phase%3A,collapses%20under%20its%20own%20weight.), and eventual explode as a spectacular [planetary nebulae](https://www.space.com/17715-planetary-nebula.html): "
      ]
    },
    {
      "cell_type": "markdown",
      "metadata": {
        "id": "YIHh5gUgDV8P"
      },
      "source": [
        "<img src=\"https://github.com/DrakeShadowRaven/desihigh/blob/main/desihigh/images/PlanetaryNebulae.jpg?raw=1\" alt=\"Drawing\" style=\"width: 800px;\"/>"
      ]
    },
    {
      "cell_type": "markdown",
      "metadata": {
        "id": "nt9dS12eDV8Q"
      },
      "source": [
        "The ashen carbon-oxygen at the center will survive as a fossilised relic, dissipating energy just slowly enough that it will continue to survive for another 13.8 billion years, the current age of our Universe, and see in many more millenia."
      ]
    },
    {
      "cell_type": "markdown",
      "metadata": {
        "id": "ZhGdcxWHDV8R"
      },
      "source": [
        "We can learn about this eventual fate of the sun, and its impact on Earth, by studying neighbouring White Dwarves in the Milky Way.  We'll look at one such candidate that DESI has observed only recently!"
      ]
    },
    {
      "cell_type": "code",
      "execution_count": 6,
      "metadata": {
        "colab": {
          "base_uri": "https://localhost:8080/"
        },
        "id": "4N9hlqTFDV8R",
        "outputId": "6f26b360-cdd5-405b-ff7b-f3b55861edf9"
      },
      "outputs": [
        {
          "output_type": "execute_result",
          "data": {
            "text/plain": [
              "(181.56933732791623, ipywidgets.widgets.widget_date.DatePicker)"
            ]
          },
          "metadata": {},
          "execution_count": 6
        }
      ],
      "source": [
        "from ipywidgets.widgets.widget_date import DatePicker\n",
        "# Load the DESI spectrum\n",
        "andes = resource_filename('desihigh', 'student_andes')\n",
        "\n",
        "zbest = fits.open(andes + '/zbest-mws-66003-20200315-wd.fits')[1]\n",
        "coadd = fits.open(andes + '/coadd-mws-66003-20200315-wd.fits')\n",
        "ra,DatePicker\n"
      ]
    },
    {
      "cell_type": "code",
      "execution_count": 5,
      "metadata": {
        "id": "h5RCunZRDV8S"
      },
      "outputs": [],
      "source": [
        "# Get its position on the sky:\n",
        "ra, dec = float(zbest.data['TARGET_RA']), float(zbest.data['TARGET_DEC'])"
      ]
    },
    {
      "cell_type": "markdown",
      "metadata": {
        "id": "YNXpJCKRDV8S"
      },
      "source": [
        "It's position on the night sky lies just above [Ursa Marjor](https://en.wikipedia.org/wiki/Ursa_Major) or the Great Bear,"
      ]
    },
    {
      "cell_type": "markdown",
      "metadata": {
        "id": "bBvyjuPODV8T"
      },
      "source": [
        "<img src=\"https://github.com/DrakeShadowRaven/desihigh/blob/main/desihigh/images/UrsaMajor.jpg?raw=1\" alt=\"Drawing\" style=\"width: 800px;\"/>"
      ]
    },
    {
      "cell_type": "markdown",
      "metadata": {
        "id": "bq9dLp9SDV8T"
      },
      "source": [
        "familiar in the night sky:"
      ]
    },
    {
      "cell_type": "markdown",
      "metadata": {
        "id": "DkdgpXVEDV8U"
      },
      "source": [
        "<img src=\"https://github.com/DrakeShadowRaven/desihigh/blob/main/desihigh/images/UrsaMajor2.png?raw=1\" alt=\"Drawing\" style=\"width: 800px;\"/>"
      ]
    },
    {
      "cell_type": "markdown",
      "metadata": {
        "id": "3mWXw2LUDV8U"
      },
      "source": [
        "If you were to stare long enough, you'd see an almost imperceptible change in the apparent position as our viewpoint changes as the Earth orbits the Sun.  Remember, the dinosaurs roamed planet Earth on the other side of the galaxy!\n",
        "\n",
        "The motion of the Earth around the sun is just enough, given a precise enough instrument, to calculate the distance to our White Dwarf given simple trigonometry you've likely already seen:  "
      ]
    },
    {
      "cell_type": "markdown",
      "metadata": {
        "id": "jFIcixAJDV8V"
      },
      "source": [
        "<img src=\"https://github.com/DrakeShadowRaven/desihigh/blob/main/desihigh/images/PDistance.jpg?raw=1\" alt=\"Drawing\" style=\"width: 800px;\"/>"
      ]
    },
    {
      "cell_type": "markdown",
      "metadata": {
        "id": "vIhihLrbDV8V"
      },
      "source": [
        "The [GAIA](https://www.esa.int/Science_Exploration/Space_Science/Gaia_overview) space satellite was precisely designed to do this this and will eventually map one billion stars in the Milky Way, roughly one in every hundred there, in this way."
      ]
    },
    {
      "cell_type": "markdown",
      "metadata": {
        "id": "0yuqOgS_DV8V"
      },
      "source": [
        "<img src=\"https://github.com/DrakeShadowRaven/desihigh/blob/main/desihigh/images/Gaia.jpg?raw=1\" alt=\"Drawing\" style=\"width: 800px;\"/>"
      ]
    },
    {
      "cell_type": "markdown",
      "metadata": {
        "id": "eG4P2boUDV8V"
      },
      "source": [
        "With this parallax, GAIA tells us the distance to our white dwarf:  "
      ]
    },
    {
      "cell_type": "code",
      "execution_count": 7,
      "metadata": {
        "id": "B4G9nNKKDV8W"
      },
      "outputs": [],
      "source": [
        "# Distance calculated from Gaia parallax (Bailer-Jones et al. 2018).\n",
        "# Photometric data and the [computed distance](https://ui.adsabs.harvard.edu/abs/2018AJ....156...58B/) can be found at the [Gaia Archive](https://gea.esac.esa.int/archive/)\n",
        "dist_para = 784.665266     # parcsecs, 1 parsec = 3.0857 x 10^16 m. \n",
        "\n",
        "parsec    = 3.085677581e16 # m \n",
        "\n",
        "# AU: Astronomical Unit - distance between the Sun and the Earth.\n",
        "au        = 1.495978707e11"
      ]
    },
    {
      "cell_type": "code",
      "source": [
        "1/dist_para"
      ],
      "metadata": {
        "colab": {
          "base_uri": "https://localhost:8080/"
        },
        "id": "_OjynvJbJO3t",
        "outputId": "899b2d06-0c2b-4f17-adb0-48fa6b2a9b91"
      },
      "execution_count": 8,
      "outputs": [
        {
          "output_type": "execute_result",
          "data": {
            "text/plain": [
              "0.0012744287829862984"
            ]
          },
          "metadata": {},
          "execution_count": 8
        }
      ]
    },
    {
      "cell_type": "code",
      "source": [
        "print('the Gaia parallax for this measurement must have been 0.0012744287829862984 arcsec! Hurray')"
      ],
      "metadata": {
        "colab": {
          "base_uri": "https://localhost:8080/"
        },
        "id": "fi3Csf4zJbMU",
        "outputId": "badfa4fd-1412-4359-be02-cd26473e3959"
      },
      "execution_count": 9,
      "outputs": [
        {
          "output_type": "stream",
          "name": "stdout",
          "text": [
            "the Gaia parallax for this measurement must have been 0.0012744287829862984 arcsec! Hurray\n"
          ]
        }
      ]
    },
    {
      "cell_type": "code",
      "execution_count": 10,
      "metadata": {
        "colab": {
          "base_uri": "https://localhost:8080/"
        },
        "id": "SGKOe6SCDV8W",
        "outputId": "2514ee79-80b9-4081-ad90-894ca35c888f"
      },
      "outputs": [
        {
          "output_type": "stream",
          "name": "stdout",
          "text": [
            "GAIA parallax tells us that the distance to our White Dwarf is 162 million x the distance from the Earth to the Sun.\n"
          ]
        }
      ],
      "source": [
        "print('GAIA parallax tells us that the distance to our White Dwarf is {:.0f} million x the distance from the Earth to the Sun.'.format(dist_para * parsec / au / 1.e6))"
      ]
    },
    {
      "cell_type": "code",
      "source": [
        "print('estimted parallax 206264.8062145048')"
      ],
      "metadata": {
        "colab": {
          "base_uri": "https://localhost:8080/"
        },
        "id": "fwthaZoLHh0k",
        "outputId": "d99b2154-ac0e-4aa1-bd2b-5924651dab80"
      },
      "execution_count": 12,
      "outputs": [
        {
          "output_type": "stream",
          "name": "stdout",
          "text": [
            "estimted parallax 206264.8062145048\n"
          ]
        }
      ]
    },
    {
      "cell_type": "code",
      "source": [
        "print('dwarf is {:.0f}')"
      ],
      "metadata": {
        "colab": {
          "base_uri": "https://localhost:8080/"
        },
        "id": "eBN5PbRLKa-m",
        "outputId": "726c4064-f744-49c7-d7df-a90848a294f9"
      },
      "execution_count": 13,
      "outputs": [
        {
          "output_type": "stream",
          "name": "stdout",
          "text": [
            "dwarf is {:.0f}\n"
          ]
        }
      ]
    },
    {
      "cell_type": "code",
      "source": [
        "\n"
      ],
      "metadata": {
        "id": "Gp596JnJICrI"
      },
      "execution_count": 13,
      "outputs": []
    },
    {
      "cell_type": "markdown",
      "metadata": {
        "id": "nuuO_yE4DV8X"
      },
      "source": [
        "The GAIA camera is designed to measure the brightness of the white dwarf in three different parts of the visible spectrum, corresponding to the colors shown below.  You'll recognise this as the same style plot we explored for Hydrogen Rydberg lines in the Intro."
      ]
    },
    {
      "cell_type": "code",
      "execution_count": 14,
      "metadata": {
        "id": "qeKHKCuKDV8X"
      },
      "outputs": [],
      "source": [
        "# (Pivot) Wavelengths for the Gaia DR2 filters.\n",
        "GAIA = {'G_WAVE': 6230.6, 'BP_WAVE': 5051.5, 'RP_WAVE': 7726.2}"
      ]
    },
    {
      "cell_type": "code",
      "execution_count": 16,
      "metadata": {
        "colab": {
          "base_uri": "https://localhost:8080/",
          "height": 487
        },
        "id": "HE8TsYCNDV8X",
        "outputId": "df1b7bcb-7dc7-4f6e-d7b1-b5c7263df072"
      },
      "outputs": [
        {
          "output_type": "error",
          "ename": "AttributeError",
          "evalue": "ignored",
          "traceback": [
            "\u001b[0;31m---------------------------------------------------------------------------\u001b[0m",
            "\u001b[0;31mAttributeError\u001b[0m                            Traceback (most recent call last)",
            "\u001b[0;32m<ipython-input-16-f92cd456d930>\u001b[0m in \u001b[0;36m<module>\u001b[0;34m()\u001b[0m\n\u001b[1;32m      3\u001b[0m   \u001b[0mcolor\u001b[0m \u001b[0;34m=\u001b[0m \u001b[0mwavelength_to_rgb\u001b[0m\u001b[0;34m(\u001b[0m\u001b[0mwave\u001b[0m \u001b[0;34m/\u001b[0m \u001b[0;36m10.\u001b[0m\u001b[0;34m)\u001b[0m\u001b[0;34m\u001b[0m\u001b[0;34m\u001b[0m\u001b[0m\n\u001b[1;32m      4\u001b[0m   \u001b[0mpl\u001b[0m\u001b[0;34m.\u001b[0m\u001b[0maxvline\u001b[0m\u001b[0;34m(\u001b[0m\u001b[0mx\u001b[0m\u001b[0;34m=\u001b[0m\u001b[0mwave\u001b[0m \u001b[0;34m/\u001b[0m \u001b[0;36m10.\u001b[0m\u001b[0;34m,\u001b[0m \u001b[0mc\u001b[0m\u001b[0;34m=\u001b[0m\u001b[0mcolor\u001b[0m\u001b[0;34m)\u001b[0m\u001b[0;34m\u001b[0m\u001b[0;34m\u001b[0m\u001b[0m\n\u001b[0;32m----> 5\u001b[0;31m   \u001b[0mpl\u001b[0m\u001b[0;34m.\u001b[0m\u001b[0mayvline\u001b[0m\u001b[0;34m(\u001b[0m\u001b[0my\u001b[0m\u001b[0;34m=\u001b[0m\u001b[0mred\u001b[0m \u001b[0;34m/\u001b[0m \u001b[0;36m10.\u001b[0m\u001b[0;34m,\u001b[0m \u001b[0mc\u001b[0m\u001b[0;34m=\u001b[0m\u001b[0mcolor\u001b[0m\u001b[0;34m)\u001b[0m\u001b[0;34m\u001b[0m\u001b[0;34m\u001b[0m\u001b[0m\n\u001b[0m\u001b[1;32m      6\u001b[0m \u001b[0;34m\u001b[0m\u001b[0m\n\u001b[1;32m      7\u001b[0m \u001b[0mpl\u001b[0m\u001b[0;34m.\u001b[0m\u001b[0mtitle\u001b[0m\u001b[0;34m(\u001b[0m\u001b[0;34m'Wavelengths (and colors) at which GAIA measures the brightness of each star'\u001b[0m\u001b[0;34m,\u001b[0m \u001b[0mpad\u001b[0m\u001b[0;34m=\u001b[0m\u001b[0;36m10.5\u001b[0m\u001b[0;34m,\u001b[0m \u001b[0mfontsize\u001b[0m\u001b[0;34m=\u001b[0m\u001b[0;36m10\u001b[0m\u001b[0;34m)\u001b[0m\u001b[0;34m\u001b[0m\u001b[0;34m\u001b[0m\u001b[0m\n",
            "\u001b[0;31mAttributeError\u001b[0m: module 'pylab' has no attribute 'ayvline'"
          ]
        },
        {
          "output_type": "display_data",
          "data": {
            "text/plain": [
              "<Figure size 432x288 with 1 Axes>"
            ],
            "image/png": "[encoded data removed]"
          },
          "metadata": {
            "needs_background": "light"
          }
        }
      ],
      "source": [
        "for wave in GAIA.values():\n",
        "  # color = [r, g, b]\n",
        "  color = wavelength_to_rgb(wave / 10.)       \n",
        "  pl.axvline(x=wave / 10., c=color)\n",
        "  pl.ayvline(y=red / 10., c=color)\n",
        "\n",
        "pl.title('Wavelengths (and colors) at which GAIA measures the brightness of each star', pad=10.5, fontsize=10)\n",
        "pl.xlabel('Vacuum wavelength [nanometers]')\n",
        "pl.xlim(380., 780.)"
      ]
    },
    {
      "cell_type": "code",
      "execution_count": 18,
      "metadata": {
        "id": "tCyW-kfZDV8X"
      },
      "outputs": [],
      "source": [
        "for band in ['G', 'BP', 'RP']:\n",
        "    GAIA[band + '_MAG']  = zbest.data['GAIA_PHOT_{}_MEAN_MAG'.format(band)][0]    \n",
        "    GAIA[band + '_FLUX'] = 10.**(-(GAIA[band + '_MAG'] + (25.7934 - 25.6884)) / 2.5) * 3631. / 3.34e4 / GAIA[band + '_WAVE']**2."
      ]
    },
    {
      "cell_type": "code",
      "execution_count": 19,
      "metadata": {
        "colab": {
          "base_uri": "https://localhost:8080/"
        },
        "id": "7PitIQQDDV8X",
        "outputId": "a2fc0601-fae8-45b7-99d4-9bf0a71f6631"
      },
      "outputs": [
        {
          "output_type": "stream",
          "name": "stdout",
          "text": [
            "0.00101\n"
          ]
        }
      ],
      "source": [
        "# Add in the mag. errors that DESI catalogues don't propagate.\n",
        "GAIA['G_MAGERR']  = 0.0044\n",
        "GAIA['BP_MAGERR'] = 0.0281\n",
        "GAIA['RP_MAGERR'] = 0.0780\n",
        "GAIA['NOTE']=0.00101\n",
        "print(GAIA['NOTE'])\n"
      ]
    },
    {
      "cell_type": "code",
      "source": [
        "def Lum(d,F):\n",
        "  result=F*G*np.pi*d**2\n",
        "  return result\n"
      ],
      "metadata": {
        "id": "bN9PXrZyHe9Z"
      },
      "execution_count": 20,
      "outputs": []
    },
    {
      "cell_type": "code",
      "source": [
        "print('the luminosity must be some value but code wont enter')"
      ],
      "metadata": {
        "colab": {
          "base_uri": "https://localhost:8080/"
        },
        "id": "D7Yha31UI1rH",
        "outputId": "8911086d-a3da-4ba8-dd1a-961fd6b55ee7"
      },
      "execution_count": 21,
      "outputs": [
        {
          "output_type": "stream",
          "name": "stdout",
          "text": [
            "the luminosity must be some value but code wont enter\n"
          ]
        }
      ]
    },
    {
      "cell_type": "code",
      "execution_count": 22,
      "metadata": {
        "colab": {
          "base_uri": "https://localhost:8080/"
        },
        "id": "4vkmAs0VDV8Y",
        "outputId": "616e71e8-4d66-4038-c567-3ffa2a018e79"
      },
      "outputs": [
        {
          "output_type": "stream",
          "name": "stdout",
          "text": [
            "G_WAVE     \t 6230.6000\n",
            "BP_WAVE    \t 5051.5000\n",
            "RP_WAVE    \t 7726.2000\n",
            "G_MAG      \t 19.5145\n",
            "G_FLUX     \t 0.0000\n",
            "BP_MAG     \t 19.3481\n",
            "BP_FLUX    \t 0.0000\n",
            "RP_MAG     \t 19.7099\n",
            "RP_FLUX    \t 0.0000\n",
            "G_MAGERR   \t 0.0044\n",
            "BP_MAGERR  \t 0.0281\n",
            "RP_MAGERR  \t 0.0780\n",
            "NOTE       \t 0.0010\n"
          ]
        }
      ],
      "source": [
        "for key, value in GAIA.items():\n",
        "    print('{:10s} \\t {:05.4f}'.format(key, value))"
      ]
    },
    {
      "cell_type": "markdown",
      "metadata": {
        "id": "WLmrRJxsDV8Y"
      },
      "source": [
        "This combination, a measurement of distance (from parallax) and of apparent brightness (in a number of colors), is incredibly powerful, as together they tell us the intrinsic luminosity or brightness of the dwarf rather than how it appears to us, from which we can determine what physics could be determining how bright the white dwarf is."
      ]
    },
    {
      "cell_type": "markdown",
      "metadata": {
        "id": "fMQiWHT8DV8Y"
      },
      "source": [
        "# DESI"
      ]
    },
    {
      "cell_type": "markdown",
      "metadata": {
        "id": "eP2GPGrZDV8Y"
      },
      "source": [
        "By resolving the subtle variations in the amount of light with wavelength, DESI gives us a much better idea of the White Dwarf composition and its history from its entire spectrum, rather than a few measurements at different colors:"
      ]
    },
    {
      "cell_type": "code",
      "execution_count": 23,
      "metadata": {
        "id": "K3ZKVxrhDV8Y"
      },
      "outputs": [],
      "source": [
        "# Get the wavelength and flux\n",
        "wave  = coadd[1].data['WAVELENGTH']\n",
        "count = coadd[1].data['TARGET35191335094848528']"
      ]
    },
    {
      "cell_type": "code",
      "execution_count": 24,
      "metadata": {
        "colab": {
          "base_uri": "https://localhost:8080/",
          "height": 645
        },
        "id": "29RxJpGTDV8Z",
        "outputId": "9c7406b2-7045-40d6-f92f-435753415e39"
      },
      "outputs": [
        {
          "output_type": "execute_result",
          "data": {
            "text/plain": [
              "Text(0.5, 1.0, 'TARGET35191335094848528')"
            ]
          },
          "metadata": {},
          "execution_count": 24
        },
        {
          "output_type": "display_data",
          "data": {
            "text/plain": [
              "<Figure size 1080x720 with 1 Axes>"
            ],
            "image/png": "[encoded data removed]"
          },
          "metadata": {
            "needs_background": "light"
          }
        }
      ],
      "source": [
        "# Plotting the DESI spectrum\n",
        "pl.figure(figsize=(15, 10))\n",
        "pl.plot(wave, count)\n",
        "pl.grid()\n",
        "pl.xlabel('Wavelength $[\\AA]$')\n",
        "pl.ylim(ymin=0.)\n",
        "pl.title('TARGET35191335094848528')"
      ]
    },
    {
      "cell_type": "code",
      "source": [
        "\"The image I added is the cat's eye nebula below.  It took a while but I figured it out\""
      ],
      "metadata": {
        "colab": {
          "base_uri": "https://localhost:8080/",
          "height": 35
        },
        "id": "pJEVo0bdwO9H",
        "outputId": "7e10120a-2054-4afb-c8e3-7a721a4abe19"
      },
      "execution_count": 36,
      "outputs": [
        {
          "output_type": "execute_result",
          "data": {
            "text/plain": [
              "\"The image I added is the cat's eye nebula below.  It took a while but I figured it out\""
            ],
            "application/vnd.google.colaboratory.intrinsic+json": {
              "type": "string"
            }
          },
          "metadata": {},
          "execution_count": 36
        }
      ]
    },
    {
      "cell_type": "markdown",
      "source": [
        "![Nebula.jpg](data:image/jpeg;base64,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)"
      ],
      "metadata": {
        "id": "7o-a2n93wUYt"
      }
    },
    {
      "cell_type": "markdown",
      "metadata": {
        "id": "zYawkgKyDV8Z"
      },
      "source": [
        "Astronomers have spent a long time studying stars, classifying them according to different types - not least [Annie Jump Cannon](https://www.womenshistory.org/education-resources/biographies/annie-jump-cannon), "
      ]
    },
    {
      "cell_type": "markdown",
      "metadata": {
        "id": "CCdfr1aUDV8Z"
      },
      "source": [
        "<img src=\"https://github.com/DrakeShadowRaven/desihigh/blob/main/desihigh/images/anniecannon.jpg?raw=1\" alt=\"Drawing\" style=\"width: 800px;\"/>"
      ]
    },
    {
      "cell_type": "markdown",
      "metadata": {
        "id": "XXFGpanzDV8Z"
      },
      "source": [
        "that has left us with a new ability to predict the spectrum of a star of given temperature, little $g$ - the acceleration due to gravity on their surface, and their mass.  Given 'standard' stars, those with external distance constraints we can also determine how intrinsically bright a given star is with a determined spectrum.  Let's grab these:"
      ]
    },
    {
      "cell_type": "code",
      "execution_count": 25,
      "metadata": {
        "colab": {
          "base_uri": "https://localhost:8080/"
        },
        "id": "vLcNVzaLDV8Z",
        "outputId": "82873c5a-ea7e-4fdc-df79-c0561d81075d"
      },
      "outputs": [
        {
          "output_type": "stream",
          "name": "stdout",
          "text": [
            "Collected 66 model spectra.\n"
          ]
        }
      ],
      "source": [
        "# White Dwarf model spectra [Levenhagen 2017](https://ui.adsabs.harvard.edu/abs/2017ApJS..231....1L)\n",
        "wdspec             = resource_filename('desihigh', 'dat/WDspec')\n",
        "spec_da_list       = os.listdir(wdspec)\n",
        "model_flux_spec_da = []\n",
        "model_wave_spec_da = []\n",
        "\n",
        "T_spec_da          = []\n",
        "logg_spec_da       = []\n",
        "\n",
        "# Loop over files in the directory and collect into a list. \n",
        "for filename in spec_da_list:\n",
        "    if filename[-4:] != '.npz':\n",
        "        continue\n",
        "    model = np.load(wdspec + '/' + filename)['arr_0']\n",
        "    model_flux_spec_da.append(model[:,1])\n",
        "    model_wave_spec_da.append(model[:,0])\n",
        "    T, logg = filename.split('.')[0].split('t0')[-1].split('g')\n",
        "    T_spec_da.append(float(T) * 1000.)\n",
        "    logg_spec_da.append(float(logg[:-1]) / 10.)\n",
        "    \n",
        "print('Collected {:d} model spectra.'.format(len(spec_da_list)))"
      ]
    },
    {
      "cell_type": "code",
      "execution_count": 26,
      "metadata": {
        "colab": {
          "base_uri": "https://localhost:8080/",
          "height": 297
        },
        "id": "k-9RqhWeDV8Z",
        "outputId": "e39b730b-6a3c-4944-bf0c-a2aafa9cac5f"
      },
      "outputs": [
        {
          "output_type": "execute_result",
          "data": {
            "text/plain": [
              "Text(0, 0.5, 'Normalised flux')"
            ]
          },
          "metadata": {},
          "execution_count": 26
        },
        {
          "output_type": "display_data",
          "data": {
            "text/plain": [
              "<Figure size 432x288 with 1 Axes>"
            ],
            "image/png": "[encoded data removed]"
          },
          "metadata": {
            "needs_background": "light"
          }
        }
      ],
      "source": [
        "# We'll select every 10th model white dwarf spectra to plot. \n",
        "nth = 10\n",
        "\n",
        "for model_wave, model_flux, model_temp in zip(model_wave_spec_da[::nth], model_flux_spec_da[::nth], T_spec_da[::nth]):\n",
        "    pl.plot(model_wave, model_flux / model_flux[-1], label=r'$T = {:.1e}$'.format(model_temp))\n",
        "\n",
        "# Other commands to set the plot\n",
        "pl.xlim(3000., 10000.)\n",
        "# pl.ylim(ymin=1., ymax=3.6)\n",
        "pl.legend(frameon=False, ncol=2)\n",
        "pl.xlabel('Wavelength [Angstroms]')\n",
        "pl.ylabel('Normalised flux')"
      ]
    },
    {
      "cell_type": "markdown",
      "source": [
        ""
      ],
      "metadata": {
        "id": "5yB6dbzwN-Pb"
      }
    },
    {
      "cell_type": "markdown",
      "metadata": {
        "id": "1GwApbwlDV8a"
      },
      "source": [
        "Firstly, these white dwarves are hot!  At 240,000 Kelvin, you shouldn't touch one.  While we can see that the hottest white dwarf is brightest at short wavelength and will therefore appear blue.  In exactly the same way as the bluest part of a flame is the hottest:"
      ]
    },
    {
      "cell_type": "markdown",
      "metadata": {
        "id": "0H1uubwtDV8a"
      },
      "source": [
        "<img src=\"https://github.com/DrakeShadowRaven/desihigh/blob/main/desihigh/images/bunsen.jpg?raw=1\" alt=\"Drawing\" style=\"width: 280px;\"/>"
      ]
    },
    {
      "cell_type": "markdown",
      "source": [
        ""
      ],
      "metadata": {
        "id": "T1LavU4ZN7ED"
      }
    },
    {
      "cell_type": "markdown",
      "metadata": {
        "id": "IuMZfia2DV8a"
      },
      "source": [
        "So now we have everything to find the temperature of the White Dwarf that DESI was able to find.  As for the Intro., we simply find the model that looks most like the data.  "
      ]
    },
    {
      "cell_type": "code",
      "execution_count": 27,
      "metadata": {
        "id": "bxJDzucIDV8a"
      },
      "outputs": [],
      "source": [
        "# wavelength range to be fitted\n",
        "wave_min = 3750.\n",
        "wave_max = 5200.\n",
        "\n",
        "sq_diff  = []\n",
        "\n",
        "# Masking the range to be fitted\n",
        "fitted_range = (wave > wave_min) & (wave < wave_max)\n",
        "fitted_wave  =  wave[fitted_range] \n",
        "\n",
        "for model_wave, model_flux in zip(model_wave_spec_da, model_flux_spec_da):\n",
        "    # Resample the model resoltuion to match the observed spectrum\n",
        "    model_flux_resampled = trapz_rebin(model_wave, model_flux, fitted_wave)\n",
        "    \n",
        "    # Compute the sum of the squared difference of the individually normalised model and observed spectra\n",
        "    sq_diff.append(np.sum((model_flux_resampled / np.median(model_flux_resampled) - count[fitted_range] / np.median(count[fitted_range]))**2.))\n",
        "    \n",
        "# Unit-weighted least-squared best-fit surface gravity and temperature from the DESI spctrum\n",
        "arg_min   = np.argmin(sq_diff)\n",
        "T_desi    = T_spec_da[arg_min]\n",
        "logg_desi = logg_spec_da[arg_min]"
      ]
    },
    {
      "cell_type": "code",
      "execution_count": 28,
      "metadata": {
        "colab": {
          "base_uri": "https://localhost:8080/",
          "height": 641
        },
        "id": "YzYsD-hmDV8b",
        "outputId": "0f255c06-03ed-40ac-fadf-bef3e9cfbf48"
      },
      "outputs": [
        {
          "output_type": "execute_result",
          "data": {
            "text/plain": [
              "Text(0.5, 1.0, 'DESI White Dwarf:   Temperature = 26000.0 K;  $\\\\log_{10}$(g) = 7.6')"
            ]
          },
          "metadata": {},
          "execution_count": 28
        },
        {
          "output_type": "display_data",
          "data": {
            "text/plain": [
              "<Figure size 1080x720 with 1 Axes>"
            ],
            "image/png": "[encoded data removed]"
          },
          "metadata": {
            "needs_background": "light"
          }
        }
      ],
      "source": [
        "# Plot the best fit only\n",
        "fitted_range = (model_wave_spec_da[arg_min] > wave_min) & (model_wave_spec_da[arg_min] < wave_max)\n",
        "fitted_range_data = (wave > wave_min) & (wave < wave_max)\n",
        "\n",
        "pl.figure(figsize=(15, 10))\n",
        "pl.plot(wave[fitted_range_data], count[fitted_range_data] / np.median(count[fitted_range_data]), label='DESI spectrum')\n",
        "pl.plot(model_wave_spec_da[arg_min][fitted_range], model_flux_spec_da[arg_min][fitted_range] / np.median(model_flux_spec_da[arg_min][fitted_range]), label='Best-fit model')\n",
        "pl.grid()\n",
        "pl.xlim(wave_min, wave_max)\n",
        "pl.xlabel('Wavelength [Angstroms]')\n",
        "pl.ylabel('Normalised Flux')\n",
        "pl.legend(frameon=False)\n",
        "pl.title('DESI White Dwarf:   Temperature = ' + str(T_desi) + ' K;  $\\log_{10}$(g) = ' + str(logg_desi))"
      ]
    },
    {
      "cell_type": "markdown",
      "metadata": {
        "id": "PW8yeXclDV8b"
      },
      "source": [
        "So our white dwarf is a cool 26,000 Kelvin.  While the surface gravity would be unbearable.  If you remember, the gravitational acceleration is derived from the mass and radius of a body as $g = \\frac{G \\cdot M}{r^2}$ and is roughly a measure of how dense an object is.  Let's see what this looks like for a few well known sources"
      ]
    },
    {
      "cell_type": "code",
      "execution_count": 29,
      "metadata": {
        "colab": {
          "base_uri": "https://localhost:8080/",
          "height": 457
        },
        "id": "B5WjT1R_DV8b",
        "outputId": "c7c2719e-0906-4385-ba26-41aca2696c3e"
      },
      "outputs": [
        {
          "output_type": "execute_result",
          "data": {
            "text/plain": [
              "       Body  Surface Gravity [g]\n",
              "6    Phobos             0.000581\n",
              "12    Pluto             0.063000\n",
              "9    Europa             0.134000\n",
              "4      Moon             0.165000\n",
              "8        Io             0.183000\n",
              "1   Mercury             0.377000\n",
              "5      Mars             0.379000\n",
              "2     Venus             0.905000\n",
              "3     Earth             1.000000\n",
              "10   Saturn             1.065000\n",
              "11  Neptune             1.137000\n",
              "7   Jupyter             2.528000\n",
              "0       Sun            28.020000"
            ],
            "text/html": [
              "\n",
              "  <div id=\"df-9a3a4fde-2ec1-4700-b1a2-509ccbccd94f\">\n",
              "    <div class=\"colab-df-container\">\n",
              "      <div>\n",
              "<style scoped>\n",
              "    .dataframe tbody tr th:only-of-type {\n",
              "        vertical-align: middle;\n",
              "    }\n",
              "\n",
              "    .dataframe tbody tr th {\n",
              "        vertical-align: top;\n",
              "    }\n",
              "\n",
              "    .dataframe thead th {\n",
              "        text-align: right;\n",
              "    }\n",
              "</style>\n",
              "<table border=\"1\" class=\"dataframe\">\n",
              "  <thead>\n",
              "    <tr style=\"text-align: right;\">\n",
              "      <th></th>\n",
              "      <th>Body</th>\n",
              "      <th>Surface Gravity [g]</th>\n",
              "    </tr>\n",
              "  </thead>\n",
              "  <tbody>\n",
              "    <tr>\n",
              "      <th>6</th>\n",
              "      <td>Phobos</td>\n",
              "      <td>0.000581</td>\n",
              "    </tr>\n",
              "    <tr>\n",
              "      <th>12</th>\n",
              "      <td>Pluto</td>\n",
              "      <td>0.063000</td>\n",
              "    </tr>\n",
              "    <tr>\n",
              "      <th>9</th>\n",
              "      <td>Europa</td>\n",
              "      <td>0.134000</td>\n",
              "    </tr>\n",
              "    <tr>\n",
              "      <th>4</th>\n",
              "      <td>Moon</td>\n",
              "      <td>0.165000</td>\n",
              "    </tr>\n",
              "    <tr>\n",
              "      <th>8</th>\n",
              "      <td>Io</td>\n",
              "      <td>0.183000</td>\n",
              "    </tr>\n",
              "    <tr>\n",
              "      <th>1</th>\n",
              "      <td>Mercury</td>\n",
              "      <td>0.377000</td>\n",
              "    </tr>\n",
              "    <tr>\n",
              "      <th>5</th>\n",
              "      <td>Mars</td>\n",
              "      <td>0.379000</td>\n",
              "    </tr>\n",
              "    <tr>\n",
              "      <th>2</th>\n",
              "      <td>Venus</td>\n",
              "      <td>0.905000</td>\n",
              "    </tr>\n",
              "    <tr>\n",
              "      <th>3</th>\n",
              "      <td>Earth</td>\n",
              "      <td>1.000000</td>\n",
              "    </tr>\n",
              "    <tr>\n",
              "      <th>10</th>\n",
              "      <td>Saturn</td>\n",
              "      <td>1.065000</td>\n",
              "    </tr>\n",
              "    <tr>\n",
              "      <th>11</th>\n",
              "      <td>Neptune</td>\n",
              "      <td>1.137000</td>\n",
              "    </tr>\n",
              "    <tr>\n",
              "      <th>7</th>\n",
              "      <td>Jupyter</td>\n",
              "      <td>2.528000</td>\n",
              "    </tr>\n",
              "    <tr>\n",
              "      <th>0</th>\n",
              "      <td>Sun</td>\n",
              "      <td>28.020000</td>\n",
              "    </tr>\n",
              "  </tbody>\n",
              "</table>\n",
              "</div>\n",
              "      <button class=\"colab-df-convert\" onclick=\"convertToInteractive('df-9a3a4fde-2ec1-4700-b1a2-509ccbccd94f')\"\n",
              "              title=\"Convert this dataframe to an interactive table.\"\n",
              "              style=\"display:none;\">\n",
              "        \n",
              "  <svg xmlns=\"http://www.w3.org/2000/svg\" height=\"24px\"viewBox=\"0 0 24 24\"\n",
              "       width=\"24px\">\n",
              "    <path d=\"M0 0h24v24H0V0z\" fill=\"none\"/>\n",
              "    <path d=\"M18.56 5.44l.94 2.06.94-2.06 2.06-.94-2.06-.94-.94-2.06-.94 2.06-2.06.94zm-11 1L8.5 8.5l.94-2.06 2.06-.94-2.06-.94L8.5 2.5l-.94 2.06-2.06.94zm10 10l.94 2.06.94-2.06 2.06-.94-2.06-.94-.94-2.06-.94 2.06-2.06.94z\"/><path d=\"M17.41 7.96l-1.37-1.37c-.4-.4-.92-.59-1.43-.59-.52 0-1.04.2-1.43.59L10.3 9.45l-7.72 7.72c-.78.78-.78 2.05 0 2.83L4 21.41c.39.39.9.59 1.41.59.51 0 1.02-.2 1.41-.59l7.78-7.78 2.81-2.81c.8-.78.8-2.07 0-2.86zM5.41 20L4 18.59l7.72-7.72 1.47 1.35L5.41 20z\"/>\n",
              "  </svg>\n",
              "      </button>\n",
              "      \n",
              "  <style>\n",
              "    .colab-df-container {\n",
              "      display:flex;\n",
              "      flex-wrap:wrap;\n",
              "      gap: 12px;\n",
              "    }\n",
              "\n",
              "    .colab-df-convert {\n",
              "      background-color: #E8F0FE;\n",
              "      border: none;\n",
              "      border-radius: 50%;\n",
              "      cursor: pointer;\n",
              "      display: none;\n",
              "      fill: #1967D2;\n",
              "      height: 32px;\n",
              "      padding: 0 0 0 0;\n",
              "      width: 32px;\n",
              "    }\n",
              "\n",
              "    .colab-df-convert:hover {\n",
              "      background-color: #E2EBFA;\n",
              "      box-shadow: 0px 1px 2px rgba(60, 64, 67, 0.3), 0px 1px 3px 1px rgba(60, 64, 67, 0.15);\n",
              "      fill: #174EA6;\n",
              "    }\n",
              "\n",
              "    [theme=dark] .colab-df-convert {\n",
              "      background-color: #3B4455;\n",
              "      fill: #D2E3FC;\n",
              "    }\n",
              "\n",
              "    [theme=dark] .colab-df-convert:hover {\n",
              "      background-color: #434B5C;\n",
              "      box-shadow: 0px 1px 3px 1px rgba(0, 0, 0, 0.15);\n",
              "      filter: drop-shadow(0px 1px 2px rgba(0, 0, 0, 0.3));\n",
              "      fill: #FFFFFF;\n",
              "    }\n",
              "  </style>\n",
              "\n",
              "      <script>\n",
              "        const buttonEl =\n",
              "          document.querySelector('#df-9a3a4fde-2ec1-4700-b1a2-509ccbccd94f button.colab-df-convert');\n",
              "        buttonEl.style.display =\n",
              "          google.colab.kernel.accessAllowed ? 'block' : 'none';\n",
              "\n",
              "        async function convertToInteractive(key) {\n",
              "          const element = document.querySelector('#df-9a3a4fde-2ec1-4700-b1a2-509ccbccd94f');\n",
              "          const dataTable =\n",
              "            await google.colab.kernel.invokeFunction('convertToInteractive',\n",
              "                                                     [key], {});\n",
              "          if (!dataTable) return;\n",
              "\n",
              "          const docLinkHtml = 'Like what you see? Visit the ' +\n",
              "            '<a target=\"_blank\" href=https://colab.research.google.com/notebooks/data_table.ipynb>data table notebook</a>'\n",
              "            + ' to learn more about interactive tables.';\n",
              "          element.innerHTML = '';\n",
              "          dataTable['output_type'] = 'display_data';\n",
              "          await google.colab.output.renderOutput(dataTable, element);\n",
              "          const docLink = document.createElement('div');\n",
              "          docLink.innerHTML = docLinkHtml;\n",
              "          element.appendChild(docLink);\n",
              "        }\n",
              "      </script>\n",
              "    </div>\n",
              "  </div>\n",
              "  "
            ]
          },
          "metadata": {},
          "execution_count": 29
        }
      ],
      "source": [
        "logg = pd.read_csv(resource_filename('desihigh', 'dat/logg.txt'), sep='\\s+', comment='#', names=['Body', 'Surface Gravity [g]'])\n",
        "logg = logg.sort_values('Surface Gravity [g]')\n",
        "logg"
      ]
    },
    {
      "cell_type": "code",
      "execution_count": 30,
      "metadata": {
        "colab": {
          "base_uri": "https://localhost:8080/",
          "height": 315
        },
        "id": "n3AIkQVhDV8b",
        "outputId": "8dea1e2a-c9b3-4791-e325-cef7af997b5b"
      },
      "outputs": [
        {
          "output_type": "execute_result",
          "data": {
            "text/plain": [
              "Text(0, 0.5, 'Surface gravity [g]')"
            ]
          },
          "metadata": {},
          "execution_count": 30
        },
        {
          "output_type": "display_data",
          "data": {
            "text/plain": [
              "<Figure size 432x288 with 1 Axes>"
            ],
            "image/png": "[encoded data removed]"
          },
          "metadata": {
            "needs_background": "light"
          }
        }
      ],
      "source": [
        "fig, ax = plt.subplots()\n",
        "\n",
        "pl.plot(np.arange(0, len(logg), 1), logg['Surface Gravity [g]'], marker='.', c='k')\n",
        "\n",
        "plt.xticks(np.arange(len(logg)))\n",
        "ax.set_xticklabels(logg['Body'], rotation='vertical')\n",
        "ax.set_ylabel('Surface gravity [g]')"
      ]
    },
    {
      "cell_type": "markdown",
      "source": [
        ""
      ],
      "metadata": {
        "id": "G1WKPcUINng0"
      }
    },
    {
      "cell_type": "markdown",
      "metadata": {
        "id": "xi4t6QgYDV8b"
      },
      "source": [
        "So the acceleration on Jupyter is a few times higher than that on earth, while on the Sun it'd be 30 times higher.  The force you feel during takeoff of a flight is roughly 30% larger than the acceleration due to gravity on Earth.  For our DESI white dwarf, the acceleration due to gravity on the surface is:"
      ]
    },
    {
      "cell_type": "code",
      "source": [
        ""
      ],
      "metadata": {
        "id": "DIuOADvFNSin"
      },
      "execution_count": 30,
      "outputs": []
    },
    {
      "cell_type": "code",
      "execution_count": 31,
      "metadata": {
        "colab": {
          "base_uri": "https://localhost:8080/"
        },
        "id": "RW4KK2uLDV8b",
        "outputId": "06575c79-ffff-40d8-942c-69e14af8e759"
      },
      "outputs": [
        {
          "output_type": "execute_result",
          "data": {
            "text/plain": [
              "40581.770698623535"
            ]
          },
          "metadata": {},
          "execution_count": 31
        }
      ],
      "source": [
        "logg = 7.6 \n",
        "\n",
        "g    = 10.**7.6 # cm2 / s.\n",
        "g   /= 100.     # m2 / s\n",
        "\n",
        "g   /= 9.81     # Relative to that on Earth, i.e. [g].   \n",
        "g"
      ]
    },
    {
      "cell_type": "markdown",
      "metadata": {
        "id": "Ho_j79c7DV8c"
      },
      "source": [
        "times higher than that on Earth!  In fact, if it weren't for strange restrictions on what electrons can and cannot not do (as determined by Quantum Mechanics), the White Dwarf would be so dense it would collapse entirely.  Go figure! "
      ]
    },
    {
      "cell_type": "markdown",
      "metadata": {
        "id": "duu3f_-BDV8c"
      },
      "source": [
        "Now it's your turn.  Can you find an class of object even more dense than a White Dwarf?  What is the acceleration due to gravity on its surface?  "
      ]
    },
    {
      "cell_type": "markdown",
      "metadata": {
        "id": "yNS2amGCDV8c"
      },
      "source": [
        "Harder(!)  You may be one of the first to see this White Dwarf 'up close'!  What else can you find out about it?  Here's something to get you started ... "
      ]
    },
    {
      "cell_type": "code",
      "execution_count": 32,
      "metadata": {
        "id": "8P_DbWjdDV8c",
        "outputId": "f955f1bc-5b87-4db8-b128-e2efb572170c",
        "colab": {
          "base_uri": "https://localhost:8080/",
          "height": 423
        }
      },
      "outputs": [
        {
          "output_type": "execute_result",
          "data": {
            "text/plain": [
              "         Teff  logg           Age       G    G_BP    G_RP\n",
              "0      2500.0   7.0  5.893000e+09  16.383  16.962  15.680\n",
              "1      2750.0   7.0  4.242000e+09  16.034  16.736  15.249\n",
              "2      3000.0   7.0  3.471000e+09  15.733  16.515  14.900\n",
              "3      3250.0   7.0  3.218000e+09  15.479  16.292  14.627\n",
              "4      3500.0   7.0  2.981000e+09  15.256  16.058  14.408\n",
              "..        ...   ...           ...     ...     ...     ...\n",
              "280  110000.0   9.0  0.000000e+00  10.311  10.034  10.666\n",
              "281  120000.0   9.0  0.000000e+00  10.233   9.954  10.591\n",
              "282  130000.0   9.0  0.000000e+00  10.160   9.880  10.521\n",
              "283  140000.0   9.0  0.000000e+00  10.092   9.811  10.455\n",
              "284  150000.0   9.0  0.000000e+00  10.028   9.745  10.392\n",
              "\n",
              "[285 rows x 6 columns]"
            ],
            "text/html": [
              "\n",
              "  <div id=\"df-ed7cdf70-6edf-4f75-a6cf-f686f132acb8\">\n",
              "    <div class=\"colab-df-container\">\n",
              "      <div>\n",
              "<style scoped>\n",
              "    .dataframe tbody tr th:only-of-type {\n",
              "        vertical-align: middle;\n",
              "    }\n",
              "\n",
              "    .dataframe tbody tr th {\n",
              "        vertical-align: top;\n",
              "    }\n",
              "\n",
              "    .dataframe thead th {\n",
              "        text-align: right;\n",
              "    }\n",
              "</style>\n",
              "<table border=\"1\" class=\"dataframe\">\n",
              "  <thead>\n",
              "    <tr style=\"text-align: right;\">\n",
              "      <th></th>\n",
              "      <th>Teff</th>\n",
              "      <th>logg</th>\n",
              "      <th>Age</th>\n",
              "      <th>G</th>\n",
              "      <th>G_BP</th>\n",
              "      <th>G_RP</th>\n",
              "    </tr>\n",
              "  </thead>\n",
              "  <tbody>\n",
              "    <tr>\n",
              "      <th>0</th>\n",
              "      <td>2500.0</td>\n",
              "      <td>7.0</td>\n",
              "      <td>5.893000e+09</td>\n",
              "      <td>16.383</td>\n",
              "      <td>16.962</td>\n",
              "      <td>15.680</td>\n",
              "    </tr>\n",
              "    <tr>\n",
              "      <th>1</th>\n",
              "      <td>2750.0</td>\n",
              "      <td>7.0</td>\n",
              "      <td>4.242000e+09</td>\n",
              "      <td>16.034</td>\n",
              "      <td>16.736</td>\n",
              "      <td>15.249</td>\n",
              "    </tr>\n",
              "    <tr>\n",
              "      <th>2</th>\n",
              "      <td>3000.0</td>\n",
              "      <td>7.0</td>\n",
              "      <td>3.471000e+09</td>\n",
              "      <td>15.733</td>\n",
              "      <td>16.515</td>\n",
              "      <td>14.900</td>\n",
              "    </tr>\n",
              "    <tr>\n",
              "      <th>3</th>\n",
              "      <td>3250.0</td>\n",
              "      <td>7.0</td>\n",
              "      <td>3.218000e+09</td>\n",
              "      <td>15.479</td>\n",
              "      <td>16.292</td>\n",
              "      <td>14.627</td>\n",
              "    </tr>\n",
              "    <tr>\n",
              "      <th>4</th>\n",
              "      <td>3500.0</td>\n",
              "      <td>7.0</td>\n",
              "      <td>2.981000e+09</td>\n",
              "      <td>15.256</td>\n",
              "      <td>16.058</td>\n",
              "      <td>14.408</td>\n",
              "    </tr>\n",
              "    <tr>\n",
              "      <th>...</th>\n",
              "      <td>...</td>\n",
              "      <td>...</td>\n",
              "      <td>...</td>\n",
              "      <td>...</td>\n",
              "      <td>...</td>\n",
              "      <td>...</td>\n",
              "    </tr>\n",
              "    <tr>\n",
              "      <th>280</th>\n",
              "      <td>110000.0</td>\n",
              "      <td>9.0</td>\n",
              "      <td>0.000000e+00</td>\n",
              "      <td>10.311</td>\n",
              "      <td>10.034</td>\n",
              "      <td>10.666</td>\n",
              "    </tr>\n",
              "    <tr>\n",
              "      <th>281</th>\n",
              "      <td>120000.0</td>\n",
              "      <td>9.0</td>\n",
              "      <td>0.000000e+00</td>\n",
              "      <td>10.233</td>\n",
              "      <td>9.954</td>\n",
              "      <td>10.591</td>\n",
              "    </tr>\n",
              "    <tr>\n",
              "      <th>282</th>\n",
              "      <td>130000.0</td>\n",
              "      <td>9.0</td>\n",
              "      <td>0.000000e+00</td>\n",
              "      <td>10.160</td>\n",
              "      <td>9.880</td>\n",
              "      <td>10.521</td>\n",
              "    </tr>\n",
              "    <tr>\n",
              "      <th>283</th>\n",
              "      <td>140000.0</td>\n",
              "      <td>9.0</td>\n",
              "      <td>0.000000e+00</td>\n",
              "      <td>10.092</td>\n",
              "      <td>9.811</td>\n",
              "      <td>10.455</td>\n",
              "    </tr>\n",
              "    <tr>\n",
              "      <th>284</th>\n",
              "      <td>150000.0</td>\n",
              "      <td>9.0</td>\n",
              "      <td>0.000000e+00</td>\n",
              "      <td>10.028</td>\n",
              "      <td>9.745</td>\n",
              "      <td>10.392</td>\n",
              "    </tr>\n",
              "  </tbody>\n",
              "</table>\n",
              "<p>285 rows × 6 columns</p>\n",
              "</div>\n",
              "      <button class=\"colab-df-convert\" onclick=\"convertToInteractive('df-ed7cdf70-6edf-4f75-a6cf-f686f132acb8')\"\n",
              "              title=\"Convert this dataframe to an interactive table.\"\n",
              "              style=\"display:none;\">\n",
              "        \n",
              "  <svg xmlns=\"http://www.w3.org/2000/svg\" height=\"24px\"viewBox=\"0 0 24 24\"\n",
              "       width=\"24px\">\n",
              "    <path d=\"M0 0h24v24H0V0z\" fill=\"none\"/>\n",
              "    <path d=\"M18.56 5.44l.94 2.06.94-2.06 2.06-.94-2.06-.94-.94-2.06-.94 2.06-2.06.94zm-11 1L8.5 8.5l.94-2.06 2.06-.94-2.06-.94L8.5 2.5l-.94 2.06-2.06.94zm10 10l.94 2.06.94-2.06 2.06-.94-2.06-.94-.94-2.06-.94 2.06-2.06.94z\"/><path d=\"M17.41 7.96l-1.37-1.37c-.4-.4-.92-.59-1.43-.59-.52 0-1.04.2-1.43.59L10.3 9.45l-7.72 7.72c-.78.78-.78 2.05 0 2.83L4 21.41c.39.39.9.59 1.41.59.51 0 1.02-.2 1.41-.59l7.78-7.78 2.81-2.81c.8-.78.8-2.07 0-2.86zM5.41 20L4 18.59l7.72-7.72 1.47 1.35L5.41 20z\"/>\n",
              "  </svg>\n",
              "      </button>\n",
              "      \n",
              "  <style>\n",
              "    .colab-df-container {\n",
              "      display:flex;\n",
              "      flex-wrap:wrap;\n",
              "      gap: 12px;\n",
              "    }\n",
              "\n",
              "    .colab-df-convert {\n",
              "      background-color: #E8F0FE;\n",
              "      border: none;\n",
              "      border-radius: 50%;\n",
              "      cursor: pointer;\n",
              "      display: none;\n",
              "      fill: #1967D2;\n",
              "      height: 32px;\n",
              "      padding: 0 0 0 0;\n",
              "      width: 32px;\n",
              "    }\n",
              "\n",
              "    .colab-df-convert:hover {\n",
              "      background-color: #E2EBFA;\n",
              "      box-shadow: 0px 1px 2px rgba(60, 64, 67, 0.3), 0px 1px 3px 1px rgba(60, 64, 67, 0.15);\n",
              "      fill: #174EA6;\n",
              "    }\n",
              "\n",
              "    [theme=dark] .colab-df-convert {\n",
              "      background-color: #3B4455;\n",
              "      fill: #D2E3FC;\n",
              "    }\n",
              "\n",
              "    [theme=dark] .colab-df-convert:hover {\n",
              "      background-color: #434B5C;\n",
              "      box-shadow: 0px 1px 3px 1px rgba(0, 0, 0, 0.15);\n",
              "      filter: drop-shadow(0px 1px 2px rgba(0, 0, 0, 0.3));\n",
              "      fill: #FFFFFF;\n",
              "    }\n",
              "  </style>\n",
              "\n",
              "      <script>\n",
              "        const buttonEl =\n",
              "          document.querySelector('#df-ed7cdf70-6edf-4f75-a6cf-f686f132acb8 button.colab-df-convert');\n",
              "        buttonEl.style.display =\n",
              "          google.colab.kernel.accessAllowed ? 'block' : 'none';\n",
              "\n",
              "        async function convertToInteractive(key) {\n",
              "          const element = document.querySelector('#df-ed7cdf70-6edf-4f75-a6cf-f686f132acb8');\n",
              "          const dataTable =\n",
              "            await google.colab.kernel.invokeFunction('convertToInteractive',\n",
              "                                                     [key], {});\n",
              "          if (!dataTable) return;\n",
              "\n",
              "          const docLinkHtml = 'Like what you see? Visit the ' +\n",
              "            '<a target=\"_blank\" href=https://colab.research.google.com/notebooks/data_table.ipynb>data table notebook</a>'\n",
              "            + ' to learn more about interactive tables.';\n",
              "          element.innerHTML = '';\n",
              "          dataTable['output_type'] = 'display_data';\n",
              "          await google.colab.output.renderOutput(dataTable, element);\n",
              "          const docLink = document.createElement('div');\n",
              "          docLink.innerHTML = docLinkHtml;\n",
              "          element.appendChild(docLink);\n",
              "        }\n",
              "      </script>\n",
              "    </div>\n",
              "  </div>\n",
              "  "
            ]
          },
          "metadata": {},
          "execution_count": 32
        }
      ],
      "source": [
        "model_colors = pd.read_csv(resource_filename('desihigh', 'dat/WDphot/Table_DA.txt'), sep='\\s+', comment='#') \n",
        "model_colors = model_colors[['Teff', 'logg', 'Age', 'G', 'G_BP', 'G_RP']]\n",
        "model_colors"
      ]
    },
    {
      "cell_type": "markdown",
      "metadata": {
        "id": "Zvo84WHDDV8c"
      },
      "source": [
        "The above table shows the model prediction for colors of the white dwarf observed by GAIA, if it had the temperature, age and surface gravity (logg) shown.  "
      ]
    },
    {
      "cell_type": "markdown",
      "metadata": {
        "id": "tIoFPOdRDV8c"
      },
      "source": [
        "The GAIA colors observed for the DESI white dwarf are:"
      ]
    },
    {
      "cell_type": "code",
      "execution_count": 35,
      "metadata": {
        "id": "pfE1K-OfDV8d",
        "outputId": "950d2a6a-4662-4d38-8b91-0324b0450f91",
        "colab": {
          "base_uri": "https://localhost:8080/",
          "height": 131
        },
        "cellView": "form"
      },
      "outputs": [
        {
          "output_type": "error",
          "ename": "SyntaxError",
          "evalue": "ignored",
          "traceback": [
            "\u001b[0;36m  File \u001b[0;32m\"<ipython-input-35-96c442b82027>\"\u001b[0;36m, line \u001b[0;32m2\u001b[0m\n\u001b[0;31m    <html>\u001b[0m\n\u001b[0m    ^\u001b[0m\n\u001b[0;31mSyntaxError\u001b[0m\u001b[0;31m:\u001b[0m invalid syntax\n"
          ]
        }
      ],
      "source": [
        "#@title Default title text\n",
        "GAIA['G_MAG'], GAIA['BP_MAG'], GAIA['RP_MAG']\n",
        "<html>\n",
        "<body>\n",
        "  <form enctype = \"mulltipart/form-data\" action = \"save_file.py\" method = \"post\">\n",
        "  <p>File: <input type = \"file\" name  = \"filename\" /></p>\n",
        "  <p><input type = \"submit\" value = \"Upload\" /></p>\n",
        "</form>\n",
        "</body>\n",
        "</html>\n",
        "![nebula](/)"
      ]
    },
    {
      "cell_type": "code",
      "execution_count": 34,
      "metadata": {
        "id": "v-tA6tffDV8d",
        "outputId": "ce251ae4-2cb5-4337-88e7-a7445a428d52",
        "colab": {
          "base_uri": "https://localhost:8080/"
        }
      },
      "outputs": [
        {
          "output_type": "execute_result",
          "data": {
            "text/plain": [
              "(0.0044, 0.0281, 0.078)"
            ]
          },
          "metadata": {},
          "execution_count": 34
        }
      ],
      "source": [
        "GAIA['G_MAGERR'], GAIA['BP_MAGERR'], GAIA['RP_MAGERR']"
      ]
    },
    {
      "cell_type": "markdown",
      "metadata": {
        "id": "8NznktfCDV8d"
      },
      "source": [
        "Can you figure out how old are White Dwarf is?  What does that say about the age of our Universe?  Does it match the estimates of other [experiments](https://www.space.com/24054-how-old-is-the-universe.html#:~:text=In%202013%2C%20Planck%20measured%20the,universe%20at%2013.82%20billion%20years.)? "
      ]
    },
    {
      "cell_type": "markdown",
      "metadata": {
        "id": "nRoE9XAsDV8d"
      },
      "source": [
        "If you get stuck, or need another hint, leave us a [message](https://www.github.com/michaelJwilson/DESI-HighSchool/issues/new)! "
      ]
    }
  ],
  "metadata": {
    "kernelspec": {
      "display_name": "Python 3",
      "language": "python",
      "name": "python3"
    },
    "language_info": {
      "codemirror_mode": {
        "name": "ipython",
        "version": 3
      },
      "file_extension": ".py",
      "mimetype": "text/x-python",
      "name": "python",
      "nbconvert_exporter": "python",
      "pygments_lexer": "ipython3",
      "version": "3.7.9"
    },
    "nbTranslate": {
      "displayLangs": [
        "*"
      ],
      "hotkey": "alt-t",
      "langInMainMenu": true,
      "sourceLang": "en",
      "targetLang": "fr",
      "useGoogleTranslate": true
    },
    "colab": {
      "name": "Copy of SnowWhiteDwarf.ipynb",
      "provenance": [],
      "include_colab_link": true
    }
  },
  "nbformat": 4,
  "nbformat_minor": 0
}